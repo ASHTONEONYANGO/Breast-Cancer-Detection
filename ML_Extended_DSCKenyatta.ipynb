{
  "nbformat": 4,
  "nbformat_minor": 0,
  "metadata": {
    "colab": {
      "name": "ML Extended - DSCKenyatta.ipynb",
      "provenance": [],
      "collapsed_sections": [],
      "authorship_tag": "ABX9TyOkXrz+b7lawyaLq1VT7wQw",
      "include_colab_link": true
    },
    "kernelspec": {
      "name": "python3",
      "display_name": "Python 3"
    }
  },
  "cells": [
    {
      "cell_type": "markdown",
      "metadata": {
        "id": "view-in-github",
        "colab_type": "text"
      },
      "source": [
        "<a href=\"https://colab.research.google.com/github/ASHTONEONYANGO/Breast-Cancer-Detection/blob/master/ML_Extended_DSCKenyatta.ipynb\" target=\"_parent\"><img src=\"https://colab.research.google.com/assets/colab-badge.svg\" alt=\"Open In Colab\"/></a>"
      ]
    },
    {
      "cell_type": "markdown",
      "metadata": {
        "id": "diTuP7L_cYrV"
      },
      "source": [
        "## **Linear Regression** - Guided Project"
      ]
    },
    {
      "cell_type": "markdown",
      "metadata": {
        "id": "-yL-TxsWWq-n"
      },
      "source": [
        "You just got some contract work with an Ecommerce company based in New York City that sells clothing online but they also have in-store style and clothing advice sessions. Customers come in to the store, have sessions/meetings with a personal stylist, then they can go home and order either on a mobile app or website for the clothes they want.\r\n",
        "\r\n",
        "The company is trying to decide whether to focus their efforts on their mobile app experience or their website. They've hired you on contract to help them figure it out! Let's get started!\r\n",
        "\r\n",
        "Just follow the steps below to analyze the customer data (it's fake, don't worry I didn't give you real credit card numbers or emails).\r\n",
        "\r\n"
      ]
    },
    {
      "cell_type": "markdown",
      "metadata": {
        "id": "oM1wJncoc_Im"
      },
      "source": [
        "#### **Imports**"
      ]
    },
    {
      "cell_type": "markdown",
      "metadata": {
        "id": "PvdWg4d-c-7V"
      },
      "source": [
        "Import all packages you may need: \r\n",
        "- Pandas\r\n",
        "- Numpy\r\n",
        "- Matplotlib, and\r\n",
        "- Seaborn\r\n",
        "\r\n",
        "Then set %matplotlib inline\r\n",
        "(You'll import sklearn as you'll need it!)"
      ]
    },
    {
      "cell_type": "code",
      "metadata": {
        "id": "fF-0pdvkWfcC"
      },
      "source": [
        "''' import numpy as np\r\n",
        "import pandas as pd\r\n",
        "import matplotlib.pyplot as plt\r\n",
        "import seaborn as sns\r\n",
        "%matplotlib inline\r\n",
        "'''"
      ],
      "execution_count": null,
      "outputs": []
    },
    {
      "cell_type": "code",
      "metadata": {
        "id": "BUlhkqHFelg6"
      },
      "source": [
        "import numpy as np\r\n",
        "import pandas as pd\r\n",
        "import matplotlib.pyplot as plt\r\n",
        "import seaborn as sns\r\n",
        "%matplotlib inline"
      ],
      "execution_count": 7,
      "outputs": []
    },
    {
      "cell_type": "markdown",
      "metadata": {
        "id": "mmqEvJ6RcYKQ"
      },
      "source": [
        "#### Get the Data\r\n",
        "\r\n",
        "We'll work with the Ecommerce Customers csv file from the company. It has Customer info, suchas Email, Address, and their color Avatar. Then it also has numerical value columns:\r\n",
        "\r\n",
        "* Avg. Session Length: Average session of in-store style advice sessions.\r\n",
        "* Time on App: Average time spent on App in minutes\r\n",
        "* Time on Website: Average time spent on Website in minutes\r\n",
        "* Length of Membership: How many years the customer has been a member. \r\n",
        "\r\n",
        "**Read in the Ecommerce Customers csv file as a DataFrame called customers.**"
      ]
    },
    {
      "cell_type": "code",
      "metadata": {
        "colab": {
          "base_uri": "https://localhost:8080/",
          "height": 204
        },
        "id": "i_pFEvdJewCo",
        "outputId": "2dda4997-4019-49af-d112-4312d012f65f"
      },
      "source": [
        "pd.read_csv('/content/Ecommerce Customers').head()"
      ],
      "execution_count": 10,
      "outputs": [
        {
          "output_type": "execute_result",
          "data": {
            "text/html": [
              "<div>\n",
              "<style scoped>\n",
              "    .dataframe tbody tr th:only-of-type {\n",
              "        vertical-align: middle;\n",
              "    }\n",
              "\n",
              "    .dataframe tbody tr th {\n",
              "        vertical-align: top;\n",
              "    }\n",
              "\n",
              "    .dataframe thead th {\n",
              "        text-align: right;\n",
              "    }\n",
              "</style>\n",
              "<table border=\"1\" class=\"dataframe\">\n",
              "  <thead>\n",
              "    <tr style=\"text-align: right;\">\n",
              "      <th></th>\n",
              "      <th>Email</th>\n",
              "      <th>Address</th>\n",
              "      <th>Avatar</th>\n",
              "      <th>Avg. Session Length</th>\n",
              "      <th>Time on App</th>\n",
              "      <th>Time on Website</th>\n",
              "      <th>Length of Membership</th>\n",
              "      <th>Yearly Amount Spent</th>\n",
              "    </tr>\n",
              "  </thead>\n",
              "  <tbody>\n",
              "    <tr>\n",
              "      <th>0</th>\n",
              "      <td>mstephenson@fernandez.com</td>\n",
              "      <td>835 Frank Tunnel\\nWrightmouth, MI 82180-9605</td>\n",
              "      <td>Violet</td>\n",
              "      <td>34.497268</td>\n",
              "      <td>12.655651</td>\n",
              "      <td>39.577668</td>\n",
              "      <td>4.082621</td>\n",
              "      <td>587.951054</td>\n",
              "    </tr>\n",
              "    <tr>\n",
              "      <th>1</th>\n",
              "      <td>hduke@hotmail.com</td>\n",
              "      <td>4547 Archer Common\\nDiazchester, CA 06566-8576</td>\n",
              "      <td>DarkGreen</td>\n",
              "      <td>31.926272</td>\n",
              "      <td>11.109461</td>\n",
              "      <td>37.268959</td>\n",
              "      <td>2.664034</td>\n",
              "      <td>392.204933</td>\n",
              "    </tr>\n",
              "    <tr>\n",
              "      <th>2</th>\n",
              "      <td>pallen@yahoo.com</td>\n",
              "      <td>24645 Valerie Unions Suite 582\\nCobbborough, D...</td>\n",
              "      <td>Bisque</td>\n",
              "      <td>33.000915</td>\n",
              "      <td>11.330278</td>\n",
              "      <td>37.110597</td>\n",
              "      <td>4.104543</td>\n",
              "      <td>487.547505</td>\n",
              "    </tr>\n",
              "    <tr>\n",
              "      <th>3</th>\n",
              "      <td>riverarebecca@gmail.com</td>\n",
              "      <td>1414 David Throughway\\nPort Jason, OH 22070-1220</td>\n",
              "      <td>SaddleBrown</td>\n",
              "      <td>34.305557</td>\n",
              "      <td>13.717514</td>\n",
              "      <td>36.721283</td>\n",
              "      <td>3.120179</td>\n",
              "      <td>581.852344</td>\n",
              "    </tr>\n",
              "    <tr>\n",
              "      <th>4</th>\n",
              "      <td>mstephens@davidson-herman.com</td>\n",
              "      <td>14023 Rodriguez Passage\\nPort Jacobville, PR 3...</td>\n",
              "      <td>MediumAquaMarine</td>\n",
              "      <td>33.330673</td>\n",
              "      <td>12.795189</td>\n",
              "      <td>37.536653</td>\n",
              "      <td>4.446308</td>\n",
              "      <td>599.406092</td>\n",
              "    </tr>\n",
              "  </tbody>\n",
              "</table>\n",
              "</div>"
            ],
            "text/plain": [
              "                           Email  ... Yearly Amount Spent\n",
              "0      mstephenson@fernandez.com  ...          587.951054\n",
              "1              hduke@hotmail.com  ...          392.204933\n",
              "2               pallen@yahoo.com  ...          487.547505\n",
              "3        riverarebecca@gmail.com  ...          581.852344\n",
              "4  mstephens@davidson-herman.com  ...          599.406092\n",
              "\n",
              "[5 rows x 8 columns]"
            ]
          },
          "metadata": {
            "tags": []
          },
          "execution_count": 10
        }
      ]
    },
    {
      "cell_type": "markdown",
      "metadata": {
        "id": "nkT4m_-AWoyD"
      },
      "source": [
        "Check out the **info()** and **describe()** methods."
      ]
    },
    {
      "cell_type": "code",
      "metadata": {
        "id": "EDQpxfJ9f_TP"
      },
      "source": [
        ""
      ],
      "execution_count": null,
      "outputs": []
    },
    {
      "cell_type": "markdown",
      "metadata": {
        "id": "Y0Tbg2tAgNMN"
      },
      "source": [
        "### **Exploratory Data Analysis**\r\n",
        "\r\n",
        "Exploring the data will only be using the numerical data from the csv file."
      ]
    },
    {
      "cell_type": "code",
      "metadata": {
        "id": "2bSuUzl2gUgf"
      },
      "source": [
        "# using seaborn analysis\r\n",
        "''' sns.set_palette(\"GnBu_d\")\r\n",
        "sns.set_style('whitegrid')\r\n",
        "'''\r\n",
        "#sns.pairplot()\r\n",
        "#sns.lmplot(x='Length of Membership',y='Yearly Amount Spent',data=customers)"
      ],
      "execution_count": null,
      "outputs": []
    },
    {
      "cell_type": "code",
      "metadata": {
        "id": "xpbiv0rJg2gW"
      },
      "source": [
        ""
      ],
      "execution_count": null,
      "outputs": []
    },
    {
      "cell_type": "markdown",
      "metadata": {
        "id": "5DkXbivOhemb"
      },
      "source": [
        "### **Building the Model**\r\n",
        "\r\n",
        "Now that we've explored the data a bit, let's go ahead and split the data into training and testing sets. \r\n",
        "\r\n",
        "**Set a variable X equal to the numerical features of the customers and a variable y equal to the \"Yearly Amount Spent\" column.**"
      ]
    },
    {
      "cell_type": "markdown",
      "metadata": {
        "id": "9Z9kb1ZZiaCh"
      },
      "source": [
        "Training and Test Data"
      ]
    },
    {
      "cell_type": "code",
      "metadata": {
        "id": "UAiKb0OnhldE"
      },
      "source": [
        "# y = customers['Yearly Amount Spent']\r\n",
        "# X = customers[['Avg. Session Length', 'Time on App','Time on Website', 'Length of Membership']]"
      ],
      "execution_count": 13,
      "outputs": []
    },
    {
      "cell_type": "code",
      "metadata": {
        "id": "B8duZcWciOYq"
      },
      "source": [
        ""
      ],
      "execution_count": null,
      "outputs": []
    },
    {
      "cell_type": "markdown",
      "metadata": {
        "id": "itd1C3zVionJ"
      },
      "source": [
        "Use **model_selection.train_test_split** from sklearn to split the data into training and testing sets. \r\n",
        "- Set test_size=0.3 and random_state=101"
      ]
    },
    {
      "cell_type": "code",
      "metadata": {
        "id": "7HeBkohxiq3A"
      },
      "source": [
        "# from sklearn.model_selection import train_test_split\r\n",
        "# X_train, X_test, y_train, y_test = train_test_split(X, y, test_size=0.3, random_state=101)"
      ],
      "execution_count": 14,
      "outputs": []
    },
    {
      "cell_type": "code",
      "metadata": {
        "id": "iTtbPxlai5UQ"
      },
      "source": [
        ""
      ],
      "execution_count": null,
      "outputs": []
    },
    {
      "cell_type": "markdown",
      "metadata": {
        "id": "b4HgwZDti72o"
      },
      "source": [
        "### Training the Model\r\n",
        "\r\n",
        "Now its time to train our model on our training data!\r\n",
        "\r\n",
        "*Import LinearRegression from sklearn.linear_model*\r\n",
        "\r\n",
        "---\r\n",
        "\r\n"
      ]
    },
    {
      "cell_type": "code",
      "metadata": {
        "id": "wKr1xrxMjbQF"
      },
      "source": [
        "# from sklearn.linear_model import LinearRegression"
      ],
      "execution_count": 15,
      "outputs": []
    },
    {
      "cell_type": "code",
      "metadata": {
        "id": "Jhgh44mqjlM1"
      },
      "source": [
        "# Create an instance of a LinearRegression() model named lm\r\n",
        "# lm = LinearRegression()"
      ],
      "execution_count": 16,
      "outputs": []
    },
    {
      "cell_type": "code",
      "metadata": {
        "id": "8bUNXAXpjuNl"
      },
      "source": [
        ""
      ],
      "execution_count": null,
      "outputs": []
    },
    {
      "cell_type": "markdown",
      "metadata": {
        "id": "cx8zwohBj0qC"
      },
      "source": [
        "**Train/fit lm on the training data.**"
      ]
    },
    {
      "cell_type": "code",
      "metadata": {
        "id": "byzzqE3Mj2bZ"
      },
      "source": [
        "# lm.fit(X_train,y_train)"
      ],
      "execution_count": 17,
      "outputs": []
    },
    {
      "cell_type": "markdown",
      "metadata": {
        "id": "lEh_GkFlnbnu"
      },
      "source": [
        "Print out the coefficients of the model"
      ]
    },
    {
      "cell_type": "code",
      "metadata": {
        "id": "j_3dp-gcng4-"
      },
      "source": [
        "# The coefficients\r\n",
        "# print('Coefficients: \\n', lm.coef_)"
      ],
      "execution_count": null,
      "outputs": []
    },
    {
      "cell_type": "markdown",
      "metadata": {
        "id": "RAG6m3EGkFgZ"
      },
      "source": [
        "**Predicting Test Data**\r\n",
        "\r\n",
        "Now that we have fit our model, let's evaluate its performance by predicting off the test values!\r\n",
        "\r\n",
        "*Use lm.predict() to predict off the X_test set of the data.*"
      ]
    },
    {
      "cell_type": "code",
      "metadata": {
        "id": "iDoyzBh9j8Ma"
      },
      "source": [
        "# predictions = lm.predict( X_test)"
      ],
      "execution_count": 18,
      "outputs": []
    },
    {
      "cell_type": "code",
      "metadata": {
        "id": "A7oG2uDwkTTB"
      },
      "source": [
        ""
      ],
      "execution_count": null,
      "outputs": []
    },
    {
      "cell_type": "markdown",
      "metadata": {
        "id": "i-cmvkyykXao"
      },
      "source": [
        "**Create a scatterplot of the real test values versus the predicted values.**"
      ]
    },
    {
      "cell_type": "code",
      "metadata": {
        "id": "QursIZPUkZiA"
      },
      "source": [
        "''' plt.scatter(y_test,predictions)\r\n",
        "plt.xlabel('Y Test')\r\n",
        "plt.ylabel('Predicted Y')\r\n",
        "'''"
      ],
      "execution_count": null,
      "outputs": []
    },
    {
      "cell_type": "markdown",
      "metadata": {
        "id": "MSjSDTzYkiIX"
      },
      "source": [
        "### Evaluating the Model\r\n",
        "\r\n",
        "Let's evaluate our model performance by calculating the residual sum of squares and the explained variance score (R^2).\r\n",
        "\r\n",
        "**Calculate the Mean Absolute Error, Mean Squared Error, and the Root Mean Squared Error. Refer to the lecture or to Wikipedia for the formulas**"
      ]
    },
    {
      "cell_type": "code",
      "metadata": {
        "id": "x6nmYrkZkdRY"
      },
      "source": [
        "'''\r\n",
        "# calculate these metrics by hand!\r\n",
        "from sklearn import metrics\r\n",
        "\r\n",
        "print('MAE:', metrics.mean_absolute_error(y_test, predictions))\r\n",
        "print('MSE:', metrics.mean_squared_error(y_test, predictions))\r\n",
        "print('RMSE:', np.sqrt(metrics.mean_squared_error(y_test, predictions)))\r\n",
        "'''"
      ],
      "execution_count": null,
      "outputs": []
    },
    {
      "cell_type": "code",
      "metadata": {
        "id": "edSCP8zvk2yh"
      },
      "source": [
        ""
      ],
      "execution_count": null,
      "outputs": []
    },
    {
      "cell_type": "markdown",
      "metadata": {
        "id": "fDOo7K7XlOkC"
      },
      "source": [
        "**Residuals**\r\n",
        "- *Regression residuals*\r\n",
        "- The difference between the observed value and the estimated value of the quantity of interest (for example, a sample mean)\r\n",
        "\r\n",
        "You should have gotten a very good model with a good fit. Let's quickly explore the residuals to make sure everything was okay with our data.\r\n",
        "\r\n",
        "Plot a histogram of the residuals and make sure it looks normally distributed. Use either seaborn distplot, or just plt.hist()."
      ]
    },
    {
      "cell_type": "code",
      "metadata": {
        "id": "jNGifuqMlQa0"
      },
      "source": [
        "# sns.distplot((y_test-predictions),bins=50);"
      ],
      "execution_count": 21,
      "outputs": []
    },
    {
      "cell_type": "code",
      "metadata": {
        "id": "e5LaB47Jl1u8"
      },
      "source": [
        ""
      ],
      "execution_count": null,
      "outputs": []
    },
    {
      "cell_type": "markdown",
      "metadata": {
        "id": "7tmizjNnl5MD"
      },
      "source": [
        "### **Conclusion**\r\n",
        "\r\n",
        "We still want to figure out the answer to the original question, do we focus our efforst on *mobile app* or 8website development*?\r\n",
        "\r\n",
        "Or maybe that doesn't even really matter, and *Membership Time* is what is really important. Let's see if we can interpret the **coefficients** at all to get an idea."
      ]
    },
    {
      "cell_type": "markdown",
      "metadata": {
        "id": "gXdBxex9mjvK"
      },
      "source": [
        "**Recreate the DataFrame below**"
      ]
    },
    {
      "cell_type": "code",
      "metadata": {
        "id": "HhzijF3El8a-"
      },
      "source": [
        "''' coeffecients = pd.DataFrame(lm.coef_,X.columns)\r\n",
        "coeffecients.columns = ['Coeffecient']\r\n",
        "coeffecients\r\n",
        "'''"
      ],
      "execution_count": null,
      "outputs": []
    },
    {
      "cell_type": "code",
      "metadata": {
        "id": "DyxZ6pXHmsUQ"
      },
      "source": [
        ""
      ],
      "execution_count": null,
      "outputs": []
    },
    {
      "cell_type": "markdown",
      "metadata": {
        "id": "GbzSWoAumxsL"
      },
      "source": [
        "Interpreting the coefficients:\r\n",
        "\r\n",
        "- Holding all other features fixed, a 1 unit increase in **Avg. Session Length** is associated with an **increase of 25.98 total dollars spent**.\r\n",
        "- Holding all other features fixed, a 1 unit increase in **Time on App** is associated with an **increase of 38.59 total dollars spent**.\r\n",
        "- Holding all other features fixed, a 1 unit increase in **Time on Website** is associated with an **increase of 0.19 total dollars spent**.\r\n",
        "- Holding all other features fixed, a 1 unit increase in **Length of Membership** is associated with an **increase of 61.27 total dollars spent**."
      ]
    },
    {
      "cell_type": "markdown",
      "metadata": {
        "id": "ucjEXV-jm77E"
      },
      "source": [
        "Insight question:\r\n",
        "\r\n",
        "Do you think the company should focus more on their mobile app or on their website?"
      ]
    },
    {
      "cell_type": "markdown",
      "metadata": {
        "id": "nDT49mIonFXh"
      },
      "source": [
        "This is tricky, there are two ways to think about this: \r\n",
        "- Develop the Website to catch up to the performance of the mobile app, \r\n",
        "- or develop the app more since that is what is working better. \r\n",
        "\r\n",
        "This sort of answer really depends on the other factors going on at the company, you would probably want to explore the relationship between Length of Membership and the App or the Website before coming to a conclusion!"
      ]
    },
    {
      "cell_type": "code",
      "metadata": {
        "id": "NuE9nrphmzS6"
      },
      "source": [
        ""
      ],
      "execution_count": null,
      "outputs": []
    }
  ]
}