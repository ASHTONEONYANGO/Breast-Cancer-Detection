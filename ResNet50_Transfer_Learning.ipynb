{
  "nbformat": 4,
  "nbformat_minor": 0,
  "metadata": {
    "colab": {
      "name": "ResNet50 - Transfer Learning",
      "provenance": [],
      "collapsed_sections": [],
      "include_colab_link": true
    },
    "kernelspec": {
      "name": "python3",
      "display_name": "Python 3"
    },
    "language_info": {
      "name": "python"
    }
  },
  "cells": [
    {
      "cell_type": "markdown",
      "metadata": {
        "id": "view-in-github",
        "colab_type": "text"
      },
      "source": [
        "<a href=\"https://colab.research.google.com/github/ASHTONEONYANGO/Breast-Cancer-Detection/blob/master/ResNet50_Transfer_Learning.ipynb\" target=\"_parent\"><img src=\"https://colab.research.google.com/assets/colab-badge.svg\" alt=\"Open In Colab\"/></a>"
      ]
    },
    {
      "cell_type": "markdown",
      "metadata": {
        "id": "7iwr2iE5PHha"
      },
      "source": [
        "# Image Classification using Transfer Learning by Retraining Residual Networks\n",
        "\n",
        "- ResNet50 model"
      ]
    },
    {
      "cell_type": "markdown",
      "metadata": {
        "id": "E7CpFtUUP6sm"
      },
      "source": [
        "### Analysis Objective"
      ]
    },
    {
      "cell_type": "markdown",
      "metadata": {
        "id": "L4ImJ8_PQJaN"
      },
      "source": [
        "- Retrain a Residual Network (ResNet50) model that can perform image classification on an image dataset of cats and dogs. "
      ]
    },
    {
      "cell_type": "markdown",
      "metadata": {
        "id": "7b9gqpZyQszq"
      },
      "source": [
        "### Understanding Context"
      ]
    },
    {
      "cell_type": "markdown",
      "metadata": {
        "id": "bU5uujouRLWp"
      },
      "source": [
        "The human brain by design, can easily recognize and distinguish between objects in an imsge, or images.\n",
        "As an example, given the image of a cat and a dog, we can distinguish between the two within nanoseconds, and our brain perceives this difference.\n",
        "\n",
        "If a machine could mimic this behaviour, Artificial Intelligence is as close as we can get. The field of Computer Vision aims to achjieve this, mimicking the human vision system, and there have been milestones and strides toward achieving this.\n",
        "\n",
        "Rapid developments in Computer Vision, and by extenson - image classification, has been further accelerated by the advent of Transfer Learning. \n",
        "In this regard, Transfer Learning enables us to use a pre-existing Deep Learning model, that have beed trained on huge datasets, for our applied tasks.\n",
        "\n",
        "One of the top pre-trained models for Image Classification, that is state of the art and is also widely used in the industry, is the **Residual Network (ResNet50)**"
      ]
    },
    {
      "cell_type": "markdown",
      "metadata": {
        "id": "nW5-JbpVT82g"
      },
      "source": [
        "### **Experimental Design**\n",
        "\n",
        "- Setting up the system\n",
        "- Loading and preparing the Dataset\n",
        "- Image Preprocesing\n",
        "- Retraining the Model\n",
        "  - ResNet50"
      ]
    },
    {
      "cell_type": "markdown",
      "metadata": {
        "id": "6wlSZgFxVdWQ"
      },
      "source": [
        "**Data Relevance**\n",
        "\n",
        "Images used in this project have been accessed from and are publicly available on the Kaggle platform. \n",
        "\n",
        "The data has been split into training and test set.\n",
        "The original dataset has a training set containing 2500 images of cats and dogs, and the test set has 1000 unlabeled images. \n",
        "\n",
        "However for this project, a much smaller dataset has been used in order to reduce the training time."
      ]
    },
    {
      "cell_type": "markdown",
      "metadata": {
        "id": "PhThHcg7VMWS"
      },
      "source": [
        "## Setting up the system"
      ]
    },
    {
      "cell_type": "markdown",
      "metadata": {
        "id": "JzeZ5NNTy90d"
      },
      "source": [
        "The cats and dogs images dataset is downloaded in .zip as a zipped file.\n",
        "It is extracted locally in /tmp."
      ]
    },
    {
      "cell_type": "code",
      "metadata": {
        "colab": {
          "base_uri": "https://localhost:8080/"
        },
        "id": "Zz4pw4Z0P6BY",
        "outputId": "023f25e7-8c4b-4550-d3ce-b911b5fc86d4"
      },
      "source": [
        "!wget --no-check-certificate \\\n",
        "    https://storage.googleapis.com/mledu-datasets/cats_and_dogs_filtered.zip \\\n",
        "    -O /tmp/cats_and_dogs_filtered.zip"
      ],
      "execution_count": null,
      "outputs": [
        {
          "output_type": "stream",
          "text": [
            "--2021-03-27 06:21:43--  https://storage.googleapis.com/mledu-datasets/cats_and_dogs_filtered.zip\n",
            "Resolving storage.googleapis.com (storage.googleapis.com)... 108.177.11.128, 74.125.31.128, 74.125.134.128, ...\n",
            "Connecting to storage.googleapis.com (storage.googleapis.com)|108.177.11.128|:443... connected.\n",
            "HTTP request sent, awaiting response... 200 OK\n",
            "Length: 68606236 (65M) [application/zip]\n",
            "Saving to: ‘/tmp/cats_and_dogs_filtered.zip’\n",
            "\n",
            "/tmp/cats_and_dogs_ 100%[===================>]  65.43M   125MB/s    in 0.5s    \n",
            "\n",
            "2021-03-27 06:21:44 (125 MB/s) - ‘/tmp/cats_and_dogs_filtered.zip’ saved [68606236/68606236]\n",
            "\n"
          ],
          "name": "stdout"
        }
      ]
    },
    {
      "cell_type": "markdown",
      "metadata": {
        "id": "MSJBQCu9ZA8i"
      },
      "source": [
        "Importing the required packages. Future imports will be made during model retraining"
      ]
    },
    {
      "cell_type": "code",
      "metadata": {
        "id": "cIxrcmhqOfiP"
      },
      "source": [
        "# importing the basic libraries\n",
        "import  os\n",
        "import zipfile\n",
        "import tensorflow as tf\n",
        "from tensorflow.keras.preprocessing.image import ImageDataGenerator\n",
        "from tensorflow.keras import layers\n",
        "from tensorflow.keras import Model\n",
        "import matplotlib.pyplot as plt\n",
        "%matplotlib inline"
      ],
      "execution_count": null,
      "outputs": []
    },
    {
      "cell_type": "markdown",
      "metadata": {
        "id": "sruni2C7ZMhZ"
      },
      "source": [
        "#### **Loading and Preparing the Dataset**"
      ]
    },
    {
      "cell_type": "code",
      "metadata": {
        "id": "2AUqMccGy3OQ",
        "colab": {
          "base_uri": "https://localhost:8080/",
          "height": 35
        },
        "outputId": "ee741203-18ad-44b8-f55f-ed64ce0c01a2"
      },
      "source": [
        "'''\n",
        "url = 'https://www.kaggle.com/birajsth/cats-and-dogs-filtered/download'\n",
        "filename = os.path.join(os.getcwd(), 'cats-and-dogs-filtered')\n",
        "'''"
      ],
      "execution_count": null,
      "outputs": [
        {
          "output_type": "execute_result",
          "data": {
            "application/vnd.google.colaboratory.intrinsic+json": {
              "type": "string"
            },
            "text/plain": [
              "\"\\nurl = 'https://www.kaggle.com/birajsth/cats-and-dogs-filtered/download'\\nfilename = os.path.join(os.getcwd(), 'cats-and-dogs-filtered')\\n\""
            ]
          },
          "metadata": {
            "tags": []
          },
          "execution_count": 3
        }
      ]
    },
    {
      "cell_type": "code",
      "metadata": {
        "id": "g0gF-5XAY1Hz"
      },
      "source": [
        "local_zip = '/tmp/cats_and_dogs_filtered.zip'\n",
        "zip_ref = zipfile.ZipFile(local_zip, 'r')\n",
        "zip_ref.extractall('/tmp')\n",
        "zip_ref.close()"
      ],
      "execution_count": null,
      "outputs": []
    },
    {
      "cell_type": "markdown",
      "metadata": {
        "id": "sIqTIE7MzV4a"
      },
      "source": [
        "Drawing from above, the contents of the .zip file have been extracted to the base directory /tmp/cats_and_dogs_filtered containing **train** and **validation** subdirectories for the training, validation and test sets.\n",
        "they in turn all contain **cats** and **dogs**\n",
        " subdirectories.\n",
        "\n",
        "The directories are defined as below:"
      ]
    },
    {
      "cell_type": "code",
      "metadata": {
        "id": "Q9oHC7eLd1PF"
      },
      "source": [
        "base = '/tmp/cats_and_dogs_filtered'\n",
        "train = os.path.join(base, 'train')\n",
        "validation = os.path.join(base, 'validation')"
      ],
      "execution_count": null,
      "outputs": []
    },
    {
      "cell_type": "code",
      "metadata": {
        "id": "Xli2AhLIeefY"
      },
      "source": [
        "# creating a directory with training cat pictures\n",
        "train_cats = os.path.join(train, 'cats')\n",
        "\n",
        "# creating a directory with training dog pictures\n",
        "train_dogs = os.path.join(train, 'dogs')\n",
        "\n",
        "# creating a directory with cat pictures for validation\n",
        "validation_cats = os.path.join(validation, 'cats')\n",
        "\n",
        "# creating a directory with dog pictures for validation\n",
        "validation_dogs = os.path.join(validation, 'dogs')"
      ],
      "execution_count": null,
      "outputs": []
    },
    {
      "cell_type": "markdown",
      "metadata": {
        "id": "qEWhOhBS1IMl"
      },
      "source": [
        "### Image Preprocessing\n",
        "\n",
        "- Exploratory analysis and preprocessing"
      ]
    },
    {
      "cell_type": "markdown",
      "metadata": {
        "id": "f5Rjt_nDfQEN"
      },
      "source": [
        "Checking to see if the images have been loaded correctly."
      ]
    },
    {
      "cell_type": "code",
      "metadata": {
        "colab": {
          "base_uri": "https://localhost:8080/",
          "height": 35
        },
        "id": "Lq6tMwdfesZN",
        "outputId": "1dbd98e5-817d-437a-d810-b52aa86d1da5"
      },
      "source": [
        "# configuring the matplotlib parameters\n",
        "# setting up matplotlib fig, and size to fit 4x4 pictures\n",
        "\n",
        "import matplotlib.image as mpimg\n",
        "\n",
        "nrows = 4\n",
        "ncols = 4\n",
        "\n",
        "figure = plt.gcf()\n",
        "figure.set_size_inches(ncols*4, nrows*4)\n",
        "pic_index = 100\n",
        "\n",
        "train_cats_filenames = os.listdir(train_cats)\n",
        "train_dogs_filenames = os.listdir(train_dogs)"
      ],
      "execution_count": null,
      "outputs": [
        {
          "output_type": "display_data",
          "data": {
            "text/plain": [
              "<Figure size 1152x1152 with 0 Axes>"
            ]
          },
          "metadata": {
            "tags": []
          }
        }
      ]
    },
    {
      "cell_type": "markdown",
      "metadata": {
        "id": "NI9CuRLT9WUq"
      },
      "source": [
        "How the filenames look like"
      ]
    },
    {
      "cell_type": "code",
      "metadata": {
        "colab": {
          "base_uri": "https://localhost:8080/"
        },
        "id": "cGv76ymx1s2o",
        "outputId": "f998970a-e782-47ed-f8b4-cf6cf1241583"
      },
      "source": [
        "# print 5 of the filenames in the cats training dataset\n",
        "print(train_cats_filenames[:5])\n",
        "\n",
        "# printing 5 of the filenmaes in the dogs training dataset\n",
        "print(train_dogs_filenames[:5])"
      ],
      "execution_count": null,
      "outputs": [
        {
          "output_type": "stream",
          "text": [
            "['cat.367.jpg', 'cat.770.jpg', 'cat.380.jpg', 'cat.304.jpg', 'cat.80.jpg']\n",
            "['dog.560.jpg', 'dog.820.jpg', 'dog.559.jpg', 'dog.848.jpg', 'dog.673.jpg']\n"
          ],
          "name": "stdout"
        }
      ]
    },
    {
      "cell_type": "markdown",
      "metadata": {
        "id": "9GnQlKUJ2U5Z"
      },
      "source": [
        "Getting the total count of cat and dog images in the train and validation directories."
      ]
    },
    {
      "cell_type": "code",
      "metadata": {
        "colab": {
          "base_uri": "https://localhost:8080/"
        },
        "id": "NQZ7fMf72e8r",
        "outputId": "df65a0e6-a037-4305-b47b-a72563522a51"
      },
      "source": [
        "# training images total count\n",
        "print('Total training cats images:', len(os.listdir(train_cats)))\n",
        "print('Total training dogs images:', len(os.listdir(train_dogs)))\n",
        "\n",
        "# validation images total count\n",
        "print('Total validation cats images:', len(os.listdir(validation_dogs)))\n",
        "print('Total validation cats images:', len(os.listdir(validation_cats)))"
      ],
      "execution_count": null,
      "outputs": [
        {
          "output_type": "stream",
          "text": [
            "Total training cats images: 1000\n",
            "Total training dogs images: 1000\n",
            "Total validation cats images: 500\n",
            "Total validation cats images: 500\n"
          ],
          "name": "stdout"
        }
      ]
    },
    {
      "cell_type": "markdown",
      "metadata": {
        "id": "bDf4W8pJ9gLD"
      },
      "source": [
        "Drawing from above, there are 1000 images for both cats and dogs\n",
        "\n",
        "There are also 500 images for both cats and dogs"
      ]
    },
    {
      "cell_type": "code",
      "metadata": {
        "id": "nSsTprtg9fa1"
      },
      "source": [
        ""
      ],
      "execution_count": null,
      "outputs": []
    },
    {
      "cell_type": "markdown",
      "metadata": {
        "id": "hFxPNAQN-Yoi"
      },
      "source": [
        "Exploring the cats and dogs dataset\n",
        "\n",
        "Displaying a batch of 8 cats and dogs each."
      ]
    },
    {
      "cell_type": "code",
      "metadata": {
        "colab": {
          "base_uri": "https://localhost:8080/",
          "height": 248
        },
        "id": "VmKJ6Z2rgGnO",
        "outputId": "50c01f7b-5890-4651-8c1d-a871fde5aef5"
      },
      "source": [
        "next_cat_pixel = [os.path.join(train_cats, fname)\n",
        "      for fname in train_cats_filenames[pic_index-8:pic_index]]\n",
        "\n",
        "next_dog_pixel = [os.path.join(train_dogs, fname)\n",
        "      for fname in train_dogs_filenames [pic_index-8:pic_index]]\n",
        "\n",
        "# configuring the matplotlib parameters\n",
        "for e, image_path in enumerate(next_cat_pixel + next_dog_pixel):\n",
        "  # setting up subplots, indices starting at 1\n",
        "  sp = plt.subplot(nrows, ncols, e+1)\n",
        "  sp.axis('Off') # to not show axes/gridlines\n",
        "\n",
        "  image = mpimg.imread(image_path)\n",
        "  plt.imshow(image)\n",
        "\n",
        "#plt.show(image)"
      ],
      "execution_count": null,
      "outputs": [
        {
          "output_type": "display_data",
          "data": {
            "image/png": "[encoded data removed]",
            "text/plain": [
              "<Figure size 432x288 with 16 Axes>"
            ]
          },
          "metadata": {
            "tags": [],
            "needs_background": "light"
          }
        }
      ]
    },
    {
      "cell_type": "code",
      "metadata": {
        "id": "k9P7dgCIyFKn"
      },
      "source": [
        ""
      ],
      "execution_count": null,
      "outputs": []
    },
    {
      "cell_type": "markdown",
      "metadata": {
        "id": "_kfLasG6-s54"
      },
      "source": [
        "### Model Building\n",
        "\n",
        "This section involves feeding the data to a pre-trained ResNet model for retraining, through Transfer Learning\n",
        "\n",
        "The RestNet50 is one variant of many models out of the RestNet family.\n",
        "\n",
        "- It is preferred for its good accuracy- it has become a deepr model.\n",
        "- It also tackles the Vanishing Gradient issue well."
      ]
    },
    {
      "cell_type": "markdown",
      "metadata": {
        "id": "0ENcZ-hrADUU"
      },
      "source": [
        "Step 1: Data Augmentation and Generators"
      ]
    },
    {
      "cell_type": "code",
      "metadata": {
        "colab": {
          "base_uri": "https://localhost:8080/"
        },
        "id": "6zNKoInO-7DV",
        "outputId": "2e7f70e5-9507-4074-d2d7-278786a4a9d2"
      },
      "source": [
        "# Adding data-augmentation parameters to the model\n",
        "\n",
        "train_dataGen = ImageDataGenerator(rescale=1./255.,rotation_range=40, width_shift_range=.2, height_shift_range=.2, shear_range=.2, zoom_range=.2, horizontal_flip=True)\n",
        "\n",
        "test_dataGen = ImageDataGenerator(rescale=1./255.)\n",
        "\n",
        "train_generator = train_dataGen.flow_from_directory(train, batch_size=20, class_mode='binary', target_size=(224,224))\n",
        "\n",
        "validation_generator = test_dataGen.flow_from_directory( validation, batch_size = 20, class_mode = 'binary', target_size = (224, 224))"
      ],
      "execution_count": null,
      "outputs": [
        {
          "output_type": "stream",
          "text": [
            "Found 2000 images belonging to 2 classes.\n",
            "Found 1000 images belonging to 2 classes.\n"
          ],
          "name": "stdout"
        }
      ]
    },
    {
      "cell_type": "markdown",
      "metadata": {
        "id": "7SiHZoLUCcKW"
      },
      "source": [
        "Step 2: Importing the base model"
      ]
    },
    {
      "cell_type": "code",
      "metadata": {
        "colab": {
          "base_uri": "https://localhost:8080/"
        },
        "id": "Jh5257XXCQTn",
        "outputId": "2d2560bf-23a9-4544-c497-ef1db7630a61"
      },
      "source": [
        "from tensorflow.keras.applications import ResNet50\n",
        "\n",
        "base_model = ResNet50(input_shape=(224,224,3), include_top=False, weights='imagenet')"
      ],
      "execution_count": null,
      "outputs": [
        {
          "output_type": "stream",
          "text": [
            "Downloading data from https://storage.googleapis.com/tensorflow/keras-applications/resnet/resnet50_weights_tf_dim_ordering_tf_kernels_notop.h5\n",
            "94773248/94765736 [==============================] - 0s 0us/step\n"
          ],
          "name": "stdout"
        }
      ]
    },
    {
      "cell_type": "markdown",
      "metadata": {
        "id": "-5ctUmq_DHea"
      },
      "source": [
        "Only  the basic RestNet model is beign used; the layers are kept frozen, and we only modify the last layer"
      ]
    },
    {
      "cell_type": "code",
      "metadata": {
        "id": "FX5S5-9_DCL5"
      },
      "source": [
        "for layer in base_model.layers:\n",
        "  layer.trainable = False"
      ],
      "execution_count": null,
      "outputs": []
    },
    {
      "cell_type": "markdown",
      "metadata": {
        "id": "CqUydN4ODhCy"
      },
      "source": [
        "Step 3: Building and compilng the model\n",
        "- The model is used just as a layer in a Sequential model, and also ading a single Fully Connected Layer on top of it."
      ]
    },
    {
      "cell_type": "code",
      "metadata": {
        "id": "Gf1d6JPrD5xm"
      },
      "source": [
        "from tensorflow.keras.applications import ResNet50\n",
        "from tensorflow.python.keras.models import Sequential\n",
        "from tensorflow.python.keras.layers import Dense, Flatten, GlobalAveragePooling2D\n",
        "\n",
        "base_model = Sequential()\n",
        "base_model.add(ResNet50(include_top=False, weights='imagenet', pooling='max'))\n",
        "base_model.add(Dense(1, activation='sigmoid'))"
      ],
      "execution_count": null,
      "outputs": []
    },
    {
      "cell_type": "markdown",
      "metadata": {
        "id": "F-WSedw6FIWW"
      },
      "source": [
        "Compiling the model using the SGD optimizer:"
      ]
    },
    {
      "cell_type": "code",
      "metadata": {
        "id": "sBVG2ro9D5rt"
      },
      "source": [
        "base_model.compile(optimizer=tf.keras.optimizers.SGD(learning_rate=0.0001), loss='binary_crossentropy', metrics=['acc'])"
      ],
      "execution_count": null,
      "outputs": []
    },
    {
      "cell_type": "markdown",
      "metadata": {
        "id": "OOA4cefmLJY-"
      },
      "source": [
        "Step 4: Fitting the Model"
      ]
    },
    {
      "cell_type": "code",
      "metadata": {
        "colab": {
          "base_uri": "https://localhost:8080/"
        },
        "id": "gFOSa9ClD5l_",
        "outputId": "788a0cb6-b3c4-4d08-ea04-def01c15a9cf"
      },
      "source": [
        "# fitting the model\n",
        "\n",
        "resNet = base_model.fit(train_generator, validation_data = validation_generator, steps_per_epoch=100, epochs=10 )"
      ],
      "execution_count": null,
      "outputs": [
        {
          "output_type": "stream",
          "text": [
            "Epoch 1/10\n",
            " 35/100 [=========>....................] - ETA: 13:36 - loss: 1.7547 - acc: 0.6607"
          ],
          "name": "stdout"
        }
      ]
    },
    {
      "cell_type": "markdown",
      "metadata": {
        "id": "koKyS-f_cPm0"
      },
      "source": [
        "Evaluating accuracy and Loss"
      ]
    },
    {
      "cell_type": "code",
      "metadata": {
        "id": "yADQqHKpcRvW"
      },
      "source": [
        "# Retrieve a list of accuracy results on training and validation data\n",
        "# sets for each training epoch\n",
        "acc = resNet.history['acc']\n",
        "val_acc = resNet.history['val_acc']\n",
        "\n",
        "# Retrieve a list of list results on training and validation data\n",
        "# sets for each training epoch\n",
        "loss = history.history['loss']\n",
        "val_loss = history.history['val_loss']\n",
        "\n",
        "# Getting number of epochs\n",
        "epochs = range(len(acc))\n",
        "\n",
        "# Plot training and validation accuracy per epoch\n",
        "plt.plot(epochs, acc)\n",
        "plt.plot(epochs, val_acc)\n",
        "plt.title('Training and validation accuracy')\n",
        "\n",
        "plt.figure()\n",
        "\n",
        "# Plot training and validation loss per epoch\n",
        "plt.plot(epochs, loss)\n",
        "plt.plot(epochs, val_loss)\n",
        "plt.title('Training and validation loss')"
      ],
      "execution_count": null,
      "outputs": []
    },
    {
      "cell_type": "code",
      "metadata": {
        "id": "gNN9b_ppX3MA"
      },
      "source": [
        ""
      ],
      "execution_count": null,
      "outputs": []
    }
  ]
}